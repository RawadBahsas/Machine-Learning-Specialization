{
 "cells": [
  {
   "cell_type": "code",
   "execution_count": 1,
   "id": "6fc589d5-231c-4c5f-87c1-91a7dcd8b028",
   "metadata": {},
   "outputs": [],
   "source": [
    "import numpy as np\n",
    "import time as t"
   ]
  },
  {
   "cell_type": "code",
   "execution_count": 6,
   "id": "d8123df8-2ea1-4f7d-acc2-27a111d74faf",
   "metadata": {},
   "outputs": [
    {
     "name": "stdout",
     "output_type": "stream",
     "text": [
      "a vector a: [0. 0. 0. 0.] of shape: (4,) and datatype: float64\n",
      "a vector a: [0. 0. 0. 0.] of shape: (4,) and datatype: float64\n",
      "a vector a: [0.06498611 0.74317741 0.93962277 0.7700356 ] of shape: (4,) and datatype: float64\n"
     ]
    }
   ],
   "source": [
    "a = np.zeros(4); print(f'a vector a: {a} of shape: {a.shape} and datatype: {a.dtype}')\n",
    "a = np.zeros(4,); print(f'a vector a: {a} of shape: {a.shape} and datatype: {a.dtype}')\n",
    "a = np.random.random_sample(4); print(f'a vector a: {a} of shape: {a.shape} and datatype: {a.dtype}')"
   ]
  },
  {
   "cell_type": "code",
   "execution_count": 9,
   "id": "b0a61319-0ba1-40d4-b1df-09a037539993",
   "metadata": {},
   "outputs": [
    {
     "name": "stdout",
     "output_type": "stream",
     "text": [
      "a vector a: [0. 1. 2. 3.] of shape: (4,) and datatype: float64\n",
      "a vector a: [0.06392876 0.82759495 0.40112686 0.54797739] of shape: (4,) and datatype: float64\n"
     ]
    }
   ],
   "source": [
    "a = np.arange(4.); print(f'a vector a: {a} of shape: {a.shape} and datatype: {a.dtype}')\n",
    "a = np.random.rand(4); print(f'a vector a: {a} of shape: {a.shape} and datatype: {a.dtype}')"
   ]
  },
  {
   "cell_type": "code",
   "execution_count": 10,
   "id": "66e79ed6-267d-4484-ab40-e39679ad76b7",
   "metadata": {},
   "outputs": [
    {
     "name": "stdout",
     "output_type": "stream",
     "text": [
      "a vector a: [5 4 3 2 1] of shape: (5,) and datatype: int32\n",
      "a vector a: [5. 4. 3. 2. 1.] of shape: (5,) and datatype: float64\n"
     ]
    }
   ],
   "source": [
    "a = np.array([5,4,3,2,1]); print(f'a vector a: {a} of shape: {a.shape} and datatype: {a.dtype}')\n",
    "a = np.array([5.,4,3,2,1]); print(f'a vector a: {a} of shape: {a.shape} and datatype: {a.dtype}')"
   ]
  },
  {
   "cell_type": "code",
   "execution_count": 19,
   "id": "a5cf81cd-74ba-43c0-9251-ebcc4d0ce242",
   "metadata": {},
   "outputs": [
    {
     "name": "stdout",
     "output_type": "stream",
     "text": [
      "[0 1 2 3 4 5 6 7 8 9]\n",
      "[2 3 4 5 6]\n",
      "[2 4 6]\n",
      "[0 1 2 3 4 5 6 7 8 9]\n"
     ]
    }
   ],
   "source": [
    "a = np.arange(10)\n",
    "print(a)\n",
    "c = a[2:7:1]; print(c)\n",
    "c = a[2:7:2]; print(c)\n",
    "c = a[:]; print(c)"
   ]
  },
  {
   "cell_type": "code",
   "execution_count": 20,
   "id": "594e97c9-b177-4350-a026-1b7ec98b5fa6",
   "metadata": {},
   "outputs": [
    {
     "name": "stdout",
     "output_type": "stream",
     "text": [
      "10\n",
      "2.5\n",
      "[-1 -2 -3 -4]\n",
      "[ 1  4  9 16]\n"
     ]
    }
   ],
   "source": [
    "a = np.array([1,2,3,4])\n",
    "b = np.sum(a); print(b)\n",
    "b = np.mean(a); print(b)\n",
    "b = -a; print(b)\n",
    "b = a**2; print(b)"
   ]
  },
  {
   "cell_type": "code",
   "execution_count": 24,
   "id": "f7c46f42-8a01-462b-a44e-479d75fc4f78",
   "metadata": {},
   "outputs": [
    {
     "name": "stdout",
     "output_type": "stream",
     "text": [
      "[-1 -4  9 16]\n",
      "[ 5 10 15 20]\n",
      "20\n"
     ]
    }
   ],
   "source": [
    "a = np.array([1,2,3,4])\n",
    "b = np.array([-1,-2,3,4])\n",
    "c = a*b; print(c)\n",
    "d = 5*a; print(d)\n",
    "p = np.dot(a,b); print(p)"
   ]
  },
  {
   "cell_type": "code",
   "execution_count": 30,
   "id": "d473910c-e890-4f2c-bf3d-abc74f6ec57f",
   "metadata": {},
   "outputs": [
    {
     "name": "stdout",
     "output_type": "stream",
     "text": [
      "a vector a: [[0. 0. 0. 0. 0.]\n",
      " [0. 0. 0. 0. 0.]] of shape: (2, 5) and datatype: float64\n",
      "a vector a: [[0. 0.]\n",
      " [0. 0.]\n",
      " [0. 0.]\n",
      " [0. 0.]\n",
      " [0. 0.]] of shape: (5, 2) and datatype: float64\n",
      "a vector a: [[0.35856928 0.92963368]\n",
      " [0.67798376 0.58534813]\n",
      " [0.22703874 0.28433979]\n",
      " [0.74349216 0.04554662]\n",
      " [0.14828986 0.53012933]] of shape: (5, 2) and datatype: float64\n"
     ]
    }
   ],
   "source": [
    "a = np.zeros((2,5)); print(f'a vector a: {a} of shape: {a.shape} and datatype: {a.dtype}')\n",
    "a = np.zeros((5,2)); print(f'a vector a: {a} of shape: {a.shape} and datatype: {a.dtype}')\n",
    "a = np.random.random_sample((5,2)); print(f'a vector a: {a} of shape: {a.shape} and datatype: {a.dtype}')"
   ]
  },
  {
   "cell_type": "code",
   "execution_count": 33,
   "id": "17e33e11-d06c-45b7-aeb4-01cbfc67ece7",
   "metadata": {},
   "outputs": [
    {
     "name": "stdout",
     "output_type": "stream",
     "text": [
      "a vector a: [[5 2]\n",
      " [3 1]\n",
      " [2 3]] of shape: (3, 2) and datatype: int32\n"
     ]
    }
   ],
   "source": [
    "a = np.array(([5,2],[3,1],[2,3])); print(f'a vector a: {a} of shape: {a.shape} and datatype: {a.dtype}')"
   ]
  },
  {
   "cell_type": "code",
   "execution_count": 43,
   "id": "d3afde0f-842b-4f98-8ed4-df11baa5a0fa",
   "metadata": {},
   "outputs": [
    {
     "name": "stdout",
     "output_type": "stream",
     "text": [
      "a.shape: (2, 4), \n",
      "a= [[0 1 2 3]\n",
      " [4 5 6 7]]\n"
     ]
    }
   ],
   "source": [
    "a = np.arange(8).reshape(2, 4)   \n",
    "print(f\"a.shape: {a.shape}, \\na= {a}\")"
   ]
  },
  {
   "cell_type": "code",
   "execution_count": null,
   "id": "fab84684-9204-4bdd-b120-dd74a4e43df8",
   "metadata": {},
   "outputs": [],
   "source": []
  }
 ],
 "metadata": {
  "kernelspec": {
   "display_name": "Python 3 (ipykernel)",
   "language": "python",
   "name": "python3"
  },
  "language_info": {
   "codemirror_mode": {
    "name": "ipython",
    "version": 3
   },
   "file_extension": ".py",
   "mimetype": "text/x-python",
   "name": "python",
   "nbconvert_exporter": "python",
   "pygments_lexer": "ipython3",
   "version": "3.10.9"
  }
 },
 "nbformat": 4,
 "nbformat_minor": 5
}
