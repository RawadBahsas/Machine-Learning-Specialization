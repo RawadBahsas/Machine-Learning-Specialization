{
 "cells": [
  {
   "cell_type": "code",
   "execution_count": 2,
   "id": "b1cdadcc-e4db-49f3-8403-5bb98277d6b1",
   "metadata": {},
   "outputs": [],
   "source": [
    "import numpy as np\n",
    "import matplotlib.pyplot as plt"
   ]
  },
  {
   "cell_type": "code",
   "execution_count": 3,
   "id": "1efa1045-213d-4274-9015-e46b79b949e4",
   "metadata": {},
   "outputs": [],
   "source": [
    "# Load our data set\n",
    "x_train = np.array([1.0, 2.0])   #features\n",
    "y_train = np.array([300.0, 500.0])   #target value"
   ]
  },
  {
   "cell_type": "code",
   "execution_count": 8,
   "id": "6f7a82dc-0f2a-4abe-9dba-3664995b2239",
   "metadata": {},
   "outputs": [],
   "source": [
    "def squared_error_cost_function(x, y, w, b):\n",
    "    j_Cost = 0\n",
    "    error = 0\n",
    "    m = x.shape[0]\n",
    "    for i in range(m):\n",
    "        error += (w*x[i]) + b - y[i]\n",
    "        \n",
    "    return (error**2)/2*m\n",
    "        "
   ]
  },
  {
   "cell_type": "code",
   "execution_count": 9,
   "id": "b8aa0385-26ed-4cfc-bc56-fe9714398b23",
   "metadata": {},
   "outputs": [
    {
     "name": "stdout",
     "output_type": "stream",
     "text": [
      "0.0\n"
     ]
    }
   ],
   "source": [
    "jCost = squared_error_cost_function(x_train,y_train,200,100)\n",
    "print(jCost)"
   ]
  },
  {
   "cell_type": "code",
   "execution_count": 18,
   "id": "f303dafc-092e-443f-be69-6f6808ba2c2f",
   "metadata": {},
   "outputs": [],
   "source": [
    "def calc_derivative_gradient_w(x,y,w,b):    \n",
    "    m = x.shape[0]\n",
    "    der = 0\n",
    "    for i in range(m):\n",
    "        der+= ((w*x[i])+b-y[i])*x[i]\n",
    "    return der/m\n",
    "\n",
    "def calc_derivative_gradient_b(x,y,w,b):    \n",
    "    m = x.shape[0]\n",
    "    der = 0\n",
    "    for i in range(m):\n",
    "        der+= ((w*x[i])+b-y[i])\n",
    "    return der/m"
   ]
  },
  {
   "cell_type": "code",
   "execution_count": 25,
   "id": "16af23da-e9dd-45e8-a8e3-e1256f1f1584",
   "metadata": {},
   "outputs": [
    {
     "name": "stdout",
     "output_type": "stream",
     "text": [
      "0.0\n"
     ]
    }
   ],
   "source": [
    "gradient = calc_derivative_gradient_b(x_train,y_train,200,100)\n",
    "print(gradient)"
   ]
  },
  {
   "cell_type": "code",
   "execution_count": 26,
   "id": "10c5d84d-2f49-4beb-9956-ec75d3d1f53b",
   "metadata": {},
   "outputs": [],
   "source": [
    "def gradient_descent_function(x, y, itirations, alpha,in_w,in_b):\n",
    "    w = in_w\n",
    "    b = in_b\n",
    "    m = x.shape[0]\n",
    "    j_cost_array = []\n",
    "    points_array=[]\n",
    "    for i in range (itirations):\n",
    "            tmp_w = alpha - calc_derivative_gradient_w(x,y,w,b)\n",
    "            tmp_b = alpha - calc_derivative_gradient_b(x,y,w,b)\n",
    "            w=tmp_w\n",
    "            b=tmp_b\n",
    "            cost = squared_error_cost_function(x,y,w,b)\n",
    "            j_cost_array.append(cost)\n",
    "            points_array.append((w,b))\n",
    "    return j_cost_array,points_array\n"
   ]
  },
  {
   "cell_type": "code",
   "execution_count": null,
   "id": "c915afbd-0f88-4818-b182-5080ccf6a23f",
   "metadata": {},
   "outputs": [],
   "source": []
  }
 ],
 "metadata": {
  "kernelspec": {
   "display_name": "Python 3 (ipykernel)",
   "language": "python",
   "name": "python3"
  },
  "language_info": {
   "codemirror_mode": {
    "name": "ipython",
    "version": 3
   },
   "file_extension": ".py",
   "mimetype": "text/x-python",
   "name": "python",
   "nbconvert_exporter": "python",
   "pygments_lexer": "ipython3",
   "version": "3.10.9"
  }
 },
 "nbformat": 4,
 "nbformat_minor": 5
}
